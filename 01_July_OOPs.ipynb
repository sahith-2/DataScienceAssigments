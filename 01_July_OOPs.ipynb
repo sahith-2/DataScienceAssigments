{
 "cells": [
  {
   "cell_type": "code",
   "execution_count": 1,
   "id": "d397d672",
   "metadata": {},
   "outputs": [
    {
     "data": {
      "text/plain": [
       "'\\nOOP: Object-Oriented Programming\\n\\nobject-oriented Programming (OOPs) is a programming paradigm that uses objects and classes in programming.\\nThe main aim of OOPs is to bind the data and the functions that work on that together as a single unit \\nso that no other part of the code can access this data.\\n\\n'"
      ]
     },
     "execution_count": 1,
     "metadata": {},
     "output_type": "execute_result"
    }
   ],
   "source": [
    "\"\"\"\n",
    "OOP: Object-Oriented Programming\n",
    "\n",
    "object-oriented Programming (OOPs) is a programming paradigm that uses objects and classes in programming.\n",
    "The main aim of OOPs is to bind the data and the functions that work on that together as a single unit \n",
    "so that no other part of the code can access this data.\n",
    "\n",
    "\"\"\""
   ]
  },
  {
   "cell_type": "code",
   "execution_count": 2,
   "id": "29da972d",
   "metadata": {},
   "outputs": [
    {
     "data": {
      "text/plain": [
       "'\\nObject in Python:\\n\\nObject is the instance of class.A class is like a blueprint while an instance is a copy of the class with actual values.\\n\\n'"
      ]
     },
     "execution_count": 2,
     "metadata": {},
     "output_type": "execute_result"
    }
   ],
   "source": [
    "\"\"\"\n",
    "Object in Python:\n",
    "\n",
    "Object is the instance of class.A class is like a blueprint while an instance is a copy of the class with actual values.\n",
    "\n",
    "\"\"\"\n"
   ]
  },
  {
   "cell_type": "code",
   "execution_count": 3,
   "id": "3fb514a4",
   "metadata": {},
   "outputs": [
    {
     "data": {
      "text/plain": [
       "'\\nClass in Python:\\n\\nA class is a user-defined blueprint or prototype from which objects are created. \\nClasses provide a means of bundling data and functionality together. \\nCreating a new class creates a new type of object, allowing new instances of that type to be made.\\n\\n'"
      ]
     },
     "execution_count": 3,
     "metadata": {},
     "output_type": "execute_result"
    }
   ],
   "source": [
    "\"\"\"\n",
    "Class in Python:\n",
    "\n",
    "A class is a user-defined blueprint or prototype from which objects are created. \n",
    "Classes provide a means of bundling data and functionality together. \n",
    "Creating a new class creates a new type of object, allowing new instances of that type to be made.\n",
    "\n",
    "\"\"\""
   ]
  },
  {
   "cell_type": "code",
   "execution_count": 4,
   "id": "492ef826",
   "metadata": {},
   "outputs": [
    {
     "data": {
      "text/plain": [
       "'\\nAttributes:\\nAttributes are varaibles stored inside the object or class.\\nSyntax for accessing attributes:\\nObjectname.attributename\\n\\nMethods:\\nIn Python, a Function is a block of code that accomplishes a certain task. \\nA function inside a class and associated with an object or class is called a Method. \\nSimilar to functions, methods also have a name, parameters, and a return statement.\\n\\n'"
      ]
     },
     "execution_count": 4,
     "metadata": {},
     "output_type": "execute_result"
    }
   ],
   "source": [
    "\"\"\"\n",
    "Attributes:\n",
    "Attributes are varaibles stored inside the object or class.\n",
    "Syntax for accessing attributes:\n",
    "Objectname.attributename\n",
    "\n",
    "Methods:\n",
    "In Python, a Function is a block of code that accomplishes a certain task. \n",
    "A function inside a class and associated with an object or class is called a Method. \n",
    "Similar to functions, methods also have a name, parameters, and a return statement.\n",
    "\n",
    "\"\"\""
   ]
  },
  {
   "cell_type": "code",
   "execution_count": 5,
   "id": "a14cdeb2",
   "metadata": {},
   "outputs": [
    {
     "data": {
      "text/plain": [
       "'\\nClass Variable:\\nIf the value of variable remains same for all the objects then its called as class varibale or static varaible.\\nClass variables are declared when a class is being constructed. \\nThey are not defined inside any methods of a class because of this only one copy of the static variable \\nwill be created and shared between all objects of the class.\\n\\nInstance variable:\\nIf the value of a variable varies from object to object, then such variables are called instance variables.\\nInstance variables are declared inside the constructor.It is gets created when an instance of the class is created.\\n\\n'"
      ]
     },
     "execution_count": 5,
     "metadata": {},
     "output_type": "execute_result"
    }
   ],
   "source": [
    "\"\"\"\n",
    "Class Variable:\n",
    "If the value of variable remains same for all the objects then its called as class varibale or static varaible.\n",
    "Class variables are declared when a class is being constructed. \n",
    "They are not defined inside any methods of a class because of this only one copy of the static variable \n",
    "will be created and shared between all objects of the class.\n",
    "\n",
    "Instance variable:\n",
    "If the value of a variable varies from object to object, then such variables are called instance variables.\n",
    "Instance variables are declared inside the constructor.It is gets created when an instance of the class is created.\n",
    "\n",
    "\"\"\"\n",
    "\n"
   ]
  },
  {
   "cell_type": "code",
   "execution_count": 6,
   "id": "a569846c",
   "metadata": {},
   "outputs": [
    {
     "data": {
      "text/plain": [
       "'\\nSelf: Self represents the instance of the class. By using the “self”  we can access the attributes and methods of the class \\nin python. It binds the attributes with the given arguments.\\n\\n'"
      ]
     },
     "execution_count": 6,
     "metadata": {},
     "output_type": "execute_result"
    }
   ],
   "source": [
    "\"\"\"\n",
    "Self: Self represents the instance of the class. By using the “self”  we can access the attributes and methods of the class \n",
    "in python. It binds the attributes with the given arguments.\n",
    "\n",
    "\"\"\""
   ]
  },
  {
   "cell_type": "code",
   "execution_count": 10,
   "id": "3b65340b",
   "metadata": {},
   "outputs": [],
   "source": [
    "class Book:\n",
    "    def __init__(self,title,author,isbn,publication_year,available_copies):\n",
    "        self.title = title\n",
    "        self.author = author\n",
    "        self.isbn =isbn\n",
    "        self.publication_year = publication_year\n",
    "        self.available_copies = available_copies\n",
    "        \n",
    "    def check_out(self):\n",
    "        if(self.available_copies>1):\n",
    "            self.available_copies -=1\n",
    "        print(f\"{self.title} book has been checked out\")\n",
    "    def return_book(self):\n",
    "        self.available_copies +=1\n",
    "        print(f\"{self.title} book has been returned\")\n",
    "    def display_book(self):\n",
    "        print(f\"Book Details - Title:{self.title },author:{self.author},isbn:{self.isbn},publication_year{self.publication_year},copies:{self.available_copies}\")\n",
    "        \n",
    "        "
   ]
  },
  {
   "cell_type": "code",
   "execution_count": 13,
   "id": "73d9280c",
   "metadata": {},
   "outputs": [
    {
     "name": "stdout",
     "output_type": "stream",
     "text": [
      "Book Details - Title:FrstBook,author:Sahith,isbn:123456,publication_year2023,copies:4\n",
      "FrstBook book has been checked out\n",
      "FrstBook book has been checked out\n",
      "FrstBook book has been returned\n",
      "Book Details - Title:FrstBook,author:Sahith,isbn:123456,publication_year2023,copies:3\n"
     ]
    }
   ],
   "source": [
    "b1=Book(\"FrstBook\",\"Sahith\",\"123456\",\"2023\",4)\n",
    "b1.display_book()\n",
    "b1.check_out()\n",
    "b1.check_out()\n",
    "b1.return_book()\n",
    "b1.display_book()\n"
   ]
  },
  {
   "cell_type": "code",
   "execution_count": 16,
   "id": "b6949a84",
   "metadata": {},
   "outputs": [],
   "source": [
    "class Ticket:\n",
    "    def __init__(self,ticket_id,event_name,event_date,venue,seat_number,price,is_reserved):\n",
    "        self.ticket_id = ticket_id\n",
    "        self.event_name = event_name\n",
    "        self.event_date = event_date\n",
    "        self.venue = venue\n",
    "        self.seat_nuber = seat_number\n",
    "        self.price =price\n",
    "        self.is_reserved = is_reserved\n",
    "    def reserve_ticket(self):\n",
    "        if(self.is_reserved ==\"Not Reserved\"):\n",
    "            self.is_reserved = \"Reserved\"\n",
    "            print(f\"Ticket has been reserved for {self.event_name} on date {self.event_date}\")\n",
    "        else:\n",
    "            print(f\"No tickets available for {self.event_name}\")\n",
    "    def cancel_ticket(self):\n",
    "        if(self.is_reserved ==\"Reserved\"):\n",
    "            self.is_reserved = \"Not Reserved\"\n",
    "            print(f\"Ticket has been cancelled for {self.event_name} on date {self.event_date}\")\n",
    "        else:\n",
    "            print(\"No tickets are reserved to cancel\")\n",
    "    def display_ticket_info(self):\n",
    "        print(f\"Ticket of {self.ticket_id} is {self.is_reserved} for {self.event_name} on {self.event_date}\\n Venue: {self.venue}, seat-number:{self.seat_nuber},price:{self.price}\")\n",
    "\n"
   ]
  },
  {
   "cell_type": "code",
   "execution_count": 19,
   "id": "917bc708",
   "metadata": {},
   "outputs": [
    {
     "name": "stdout",
     "output_type": "stream",
     "text": [
      "Ticket has been reserved for Sangeeth on date 02/03\n",
      "Ticket of 1234 is Reserved for Sangeeth on 02/03\n",
      " Venue: MR Gardens, seat-number:1,price:100\n"
     ]
    }
   ],
   "source": [
    "t1=Ticket(\"1234\",\"Sangeeth\",\"02/03\",\"MR Gardens\",\"1\",\"100\",\"Not Reserved\")\n",
    "t1.reserve_ticket()\n",
    "t1.display_ticket_info()"
   ]
  },
  {
   "cell_type": "code",
   "execution_count": 20,
   "id": "6b4a7b91",
   "metadata": {},
   "outputs": [
    {
     "name": "stdout",
     "output_type": "stream",
     "text": [
      "No tickets available for Sangeeth\n"
     ]
    }
   ],
   "source": [
    "t1.reserve_ticket()"
   ]
  },
  {
   "cell_type": "code",
   "execution_count": 21,
   "id": "e42ffbed",
   "metadata": {},
   "outputs": [
    {
     "name": "stdout",
     "output_type": "stream",
     "text": [
      "Ticket has been cancelled for Sangeeth on date 02/03\n"
     ]
    }
   ],
   "source": [
    "t1.cancel_ticket()"
   ]
  },
  {
   "cell_type": "code",
   "execution_count": 22,
   "id": "6c7791c7",
   "metadata": {},
   "outputs": [
    {
     "name": "stdout",
     "output_type": "stream",
     "text": [
      "Ticket of 1234 is Not Reserved for Sangeeth on 02/03\n",
      " Venue: MR Gardens, seat-number:1,price:100\n"
     ]
    }
   ],
   "source": [
    "t1.display_ticket_info()"
   ]
  },
  {
   "cell_type": "code",
   "execution_count": 23,
   "id": "d112c7d3",
   "metadata": {},
   "outputs": [
    {
     "name": "stdout",
     "output_type": "stream",
     "text": [
      "Ticket has been reserved for Sangeeth on date 02/03\n"
     ]
    }
   ],
   "source": [
    "t1.reserve_ticket()"
   ]
  },
  {
   "cell_type": "code",
   "execution_count": 24,
   "id": "3141880f",
   "metadata": {},
   "outputs": [
    {
     "name": "stdout",
     "output_type": "stream",
     "text": [
      "Ticket of 1234 is Reserved for Sangeeth on 02/03\n",
      " Venue: MR Gardens, seat-number:1,price:100\n"
     ]
    }
   ],
   "source": [
    "t1.display_ticket_info()"
   ]
  },
  {
   "cell_type": "code",
   "execution_count": 56,
   "id": "7620d413",
   "metadata": {},
   "outputs": [],
   "source": [
    "class ShoppingCart:\n",
    "    def __init__(self,items):\n",
    "        self.items = [items]\n",
    "    def add_item(self,item):\n",
    "        self.items.append(item)\n",
    "        print(f\"{item} is added to cart\")\n",
    "    def remove_item(self,item):\n",
    "        if item in self.items:\n",
    "            self.items.remove(item)\n",
    "        else:\n",
    "            print(\"Item is not in cart\")\n",
    "    def view_cart(self):\n",
    "        print(f\"Items in cart :{self.items}\")\n",
    "    def clear_cart(self):\n",
    "        self.items = []\n",
    "        print(\"Cart has been cleared\")"
   ]
  },
  {
   "cell_type": "code",
   "execution_count": 57,
   "id": "1217d08f",
   "metadata": {},
   "outputs": [
    {
     "name": "stdout",
     "output_type": "stream",
     "text": [
      "Items in cart :['Bag']\n"
     ]
    }
   ],
   "source": [
    "s1=ShoppingCart(\"Bag\")\n",
    "s1.view_cart()"
   ]
  },
  {
   "cell_type": "code",
   "execution_count": 58,
   "id": "fb4f62ab",
   "metadata": {},
   "outputs": [
    {
     "name": "stdout",
     "output_type": "stream",
     "text": [
      "Pen is added to cart\n"
     ]
    }
   ],
   "source": [
    "s1.add_item(\"Pen\")"
   ]
  },
  {
   "cell_type": "code",
   "execution_count": 59,
   "id": "fd7d6531",
   "metadata": {},
   "outputs": [
    {
     "name": "stdout",
     "output_type": "stream",
     "text": [
      "Items in cart :['Bag', 'Pen']\n"
     ]
    }
   ],
   "source": [
    "s1.view_cart()"
   ]
  },
  {
   "cell_type": "code",
   "execution_count": 60,
   "id": "5d6e91ef",
   "metadata": {},
   "outputs": [
    {
     "name": "stdout",
     "output_type": "stream",
     "text": [
      "Pencil is added to cart\n"
     ]
    }
   ],
   "source": [
    "s1.add_item(\"Pencil\")"
   ]
  },
  {
   "cell_type": "code",
   "execution_count": 61,
   "id": "877514ea",
   "metadata": {},
   "outputs": [
    {
     "name": "stdout",
     "output_type": "stream",
     "text": [
      "Items in cart :['Bag', 'Pen', 'Pencil']\n"
     ]
    }
   ],
   "source": [
    "s1.view_cart()"
   ]
  },
  {
   "cell_type": "code",
   "execution_count": 51,
   "id": "eb58fbc6",
   "metadata": {},
   "outputs": [
    {
     "name": "stdout",
     "output_type": "stream",
     "text": [
      "Item is not in cart\n"
     ]
    }
   ],
   "source": [
    "s1.remove_item(\"Pad\")"
   ]
  },
  {
   "cell_type": "code",
   "execution_count": 62,
   "id": "a91aede7",
   "metadata": {},
   "outputs": [],
   "source": [
    "s1.remove_item(\"Pencil\")"
   ]
  },
  {
   "cell_type": "code",
   "execution_count": 63,
   "id": "a4f77734",
   "metadata": {},
   "outputs": [
    {
     "name": "stdout",
     "output_type": "stream",
     "text": [
      "Items in cart :['Bag', 'Pen']\n"
     ]
    }
   ],
   "source": [
    "s1.view_cart()"
   ]
  },
  {
   "cell_type": "code",
   "execution_count": 64,
   "id": "9df24b00",
   "metadata": {},
   "outputs": [
    {
     "name": "stdout",
     "output_type": "stream",
     "text": [
      "Cart has been cleared\n"
     ]
    }
   ],
   "source": [
    "s1.clear_cart()"
   ]
  },
  {
   "cell_type": "code",
   "execution_count": 125,
   "id": "d0c913f7",
   "metadata": {},
   "outputs": [],
   "source": [
    "class Student:\n",
    "    def __init__(self,name,age,grade,student_id,attendance):\n",
    "        self.name = name\n",
    "        self.grade = grade\n",
    "        self.student_id = student_id\n",
    "        self.attendance = dict()\n",
    "    def update_attendance(self,date,status):\n",
    "        self.attendance[date] = status\n",
    "    def get_attendance(self):\n",
    "        print(f\"{self.attendance}\")\n",
    "    def get_average_attendance(self):\n",
    "        records = self.attendance.values()\n",
    "        count = 0\n",
    "        for i in records:\n",
    "            if i == \"Present\":\n",
    "                count +=1\n",
    "                avg = (count/len(records))*100\n",
    "        print(f\"Average attendance is {avg}\")\n",
    "                "
   ]
  },
  {
   "cell_type": "code",
   "execution_count": 126,
   "id": "5ce16497",
   "metadata": {},
   "outputs": [],
   "source": [
    "s1 =Student(\"sahith\",24,\"A\",\"003\",\"Attedance\")\n",
    "s1.update_attendance(\"09/07\",\"Present\")\n"
   ]
  },
  {
   "cell_type": "code",
   "execution_count": 127,
   "id": "93632b25",
   "metadata": {},
   "outputs": [],
   "source": [
    "s1.update_attendance(\"09/08\",\"Absent\")"
   ]
  },
  {
   "cell_type": "code",
   "execution_count": 128,
   "id": "4fe34b16",
   "metadata": {},
   "outputs": [
    {
     "name": "stdout",
     "output_type": "stream",
     "text": [
      "Average attendance is 50.0\n"
     ]
    }
   ],
   "source": [
    "s1.get_average_attendance()"
   ]
  },
  {
   "cell_type": "code",
   "execution_count": 129,
   "id": "473b7f2a",
   "metadata": {},
   "outputs": [],
   "source": [
    "s1.update_attendance(\"09/09\",\"Absent\")"
   ]
  },
  {
   "cell_type": "code",
   "execution_count": 130,
   "id": "bd83635f",
   "metadata": {},
   "outputs": [
    {
     "name": "stdout",
     "output_type": "stream",
     "text": [
      "{'09/07': 'Present', '09/08': 'Absent', '09/09': 'Absent'}\n"
     ]
    }
   ],
   "source": [
    "s1.get_attendance()"
   ]
  },
  {
   "cell_type": "code",
   "execution_count": 131,
   "id": "c69e4039",
   "metadata": {},
   "outputs": [
    {
     "name": "stdout",
     "output_type": "stream",
     "text": [
      "Average attendance is 33.33333333333333\n"
     ]
    }
   ],
   "source": [
    "s1.get_average_attendance()"
   ]
  },
  {
   "cell_type": "code",
   "execution_count": null,
   "id": "08c9e3e8",
   "metadata": {},
   "outputs": [],
   "source": []
  }
 ],
 "metadata": {
  "kernelspec": {
   "display_name": "Python 3 (ipykernel)",
   "language": "python",
   "name": "python3"
  },
  "language_info": {
   "codemirror_mode": {
    "name": "ipython",
    "version": 3
   },
   "file_extension": ".py",
   "mimetype": "text/x-python",
   "name": "python",
   "nbconvert_exporter": "python",
   "pygments_lexer": "ipython3",
   "version": "3.10.9"
  }
 },
 "nbformat": 4,
 "nbformat_minor": 5
}
