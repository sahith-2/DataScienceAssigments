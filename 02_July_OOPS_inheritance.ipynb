{
 "cells": [
  {
   "cell_type": "code",
   "execution_count": 1,
   "id": "4b25633e",
   "metadata": {
    "scrolled": true
   },
   "outputs": [
    {
     "data": {
      "text/plain": [
       "'Inheritance in OOPS:\\nWhen a class inherits the propertis of parent class, it is called inheritance. It enebles new objects to take on the properties\\nof existing objects.\\n\\n* The class which inherits the properties is called child/derived class and the other calss is known as parent/base calss.\\n\\nUses :\\nCode Reusability : Using same code without writing it again and again\\nReadibility : Makes easier to read and understand\\n'"
      ]
     },
     "execution_count": 1,
     "metadata": {},
     "output_type": "execute_result"
    }
   ],
   "source": [
    "\"\"\"Inheritance in OOPS:\n",
    "When a class inherits the propertis of parent class, it is called inheritance. It enebles new objects to take on the properties\n",
    "of existing objects.\n",
    "\n",
    "* The class which inherits the properties is called child/derived class and the other calss is known as parent/base calss.\n",
    "\n",
    "Uses :\n",
    "Code Reusability : Using same code without writing it again and again\n",
    "Readibility : Makes easier to read and understand\n",
    "\"\"\"\n",
    "\n",
    "    "
   ]
  },
  {
   "cell_type": "code",
   "execution_count": 4,
   "id": "02ed7d28",
   "metadata": {},
   "outputs": [
    {
     "data": {
      "text/plain": [
       "'\\nSingle Inheritance:\\n* Single Inheritance enables a derived class to inherit propeties from single Parent class.\\n* Dervied class uses the features of Single Base Class.\\n* Requires samll run time.\\n* Less complex when compared to multiple Inheritance\\n\\nMutiple Inheritance:\\n* When base class is derived from more than one parent classe, this type of inheritance is called mutiple inheritance.\\n* Dervied class uses the joint features of the inherited base classes.\\n* Requires more run  time\\n* More Complex than Single Inheritance.\\n'"
      ]
     },
     "execution_count": 4,
     "metadata": {},
     "output_type": "execute_result"
    }
   ],
   "source": [
    "\"\"\"\n",
    "Single Inheritance:\n",
    "* Single Inheritance enables a derived class to inherit propeties from single Parent class.\n",
    "* Dervied class uses the features of Single Base Class.\n",
    "* Requires samll run time.\n",
    "* Less complex when compared to multiple Inheritance\n",
    "\n",
    "Mutiple Inheritance:\n",
    "* When base class is derived from more than one parent classe, this type of inheritance is called mutiple inheritance.\n",
    "* Dervied class uses the joint features of the inherited base classes.\n",
    "* Requires more run  time\n",
    "* More Complex than Single Inheritance.\n",
    "\"\"\"\n",
    "\n"
   ]
  },
  {
   "cell_type": "code",
   "execution_count": 5,
   "id": "715645a1",
   "metadata": {},
   "outputs": [
    {
     "data": {
      "text/plain": [
       "'\\nBase Class : The class whoese members(attributes,methods) are inherited is called base class or parent class\\n\\nDervied Class : The class which inherits the properties of base class is called child class or derived class\\n\\n'"
      ]
     },
     "execution_count": 5,
     "metadata": {},
     "output_type": "execute_result"
    }
   ],
   "source": [
    "\"\"\"\n",
    "Base Class : The class whoese members(attributes,methods) are inherited is called base class or parent class\n",
    "\n",
    "Dervied Class : The class which inherits the properties of base class is called child class or derived class\n",
    "\n",
    "\"\"\"\n",
    "\n"
   ]
  },
  {
   "cell_type": "code",
   "execution_count": 1,
   "id": "966b90db",
   "metadata": {},
   "outputs": [
    {
     "data": {
      "text/plain": [
       "'\\nSuper(): Super keyword allows subclass to inherit the methods or attributes from Parent class.\\n\\nExample : \\n\\nclass Parent:\\n        def __init__(self,id,name):\\n            self.id = id\\n            self.name = name\\nclass Child(Parent):\\n        def __init__(self,id,name):\\n            super().__init__(id,name)\\n'"
      ]
     },
     "execution_count": 1,
     "metadata": {},
     "output_type": "execute_result"
    }
   ],
   "source": [
    "\"\"\"\n",
    "Super(): Super keyword allows subclass to inherit the methods or attributes from Parent class.\n",
    "\n",
    "Example : \n",
    "\n",
    "class Parent:\n",
    "        def __init__(self,id,name):\n",
    "            self.id = id\n",
    "            self.name = name\n",
    "class Child(Parent):\n",
    "        def __init__(self,id,name):\n",
    "            super().__init__(id,name)\n",
    "\"\"\"\n",
    "            "
   ]
  },
  {
   "cell_type": "code",
   "execution_count": 3,
   "id": "bb718568",
   "metadata": {},
   "outputs": [
    {
     "data": {
      "text/plain": [
       "'\\nProtected Access modifier:\\nThe members of as class delacared as protected are only accessible to a derived class from it.\\nData members of a class are declared protected by adding a single underscore ‘_’ symbol before the data member of that class.\\n\\nPublic Access modifier:\\nThe members of a class that are declared public are easily accessible from any part of the program. \\nAll data members and member functions of a class are public by default. \\n\\nPrivate Access modifier:\\nThe members of a class that are declared private are accessible within the class only, private access modifier is the most \\nsecure access modifier. Data members of a class are declared private by adding a double underscore ‘__’ symbol before the \\ndata member of that class. \\n\\n'"
      ]
     },
     "execution_count": 3,
     "metadata": {},
     "output_type": "execute_result"
    }
   ],
   "source": [
    "\"\"\"\n",
    "Protected Access modifier:\n",
    "The members of as class delacared as protected are only accessible to a derived class from it.\n",
    "Data members of a class are declared protected by adding a single underscore ‘_’ symbol before the data member of that class.\n",
    "\n",
    "Public Access modifier:\n",
    "The members of a class that are declared public are easily accessible from any part of the program. \n",
    "All data members and member functions of a class are public by default. \n",
    "\n",
    "Private Access modifier:\n",
    "The members of a class that are declared private are accessible within the class only, private access modifier is the most \n",
    "secure access modifier. Data members of a class are declared private by adding a double underscore ‘__’ symbol before the \n",
    "data member of that class. \n",
    "\n",
    "\"\"\""
   ]
  },
  {
   "cell_type": "code",
   "execution_count": 28,
   "id": "c3610903",
   "metadata": {},
   "outputs": [],
   "source": [
    "class Vehicle:\n",
    "    def __init__(self,make,model,year):\n",
    "        self.make=make\n",
    "        self.model=model\n",
    "        self.year=year\n",
    "\n",
    "class Car(Vehicle):\n",
    "    def __init__(self,make,model,year,fuel_type):\n",
    "        super().__init__(make,model,year)\n",
    "        self.fuel_type = fuel_type\n",
    "    def start_engine(self):\n",
    "        print(f\"Car of model {self.model}, make of {self.make}, year {self.year} and fuel_type of {self.fuel_type} is ready to go\")\n",
    "    \n",
    "    def stop_engine(self):\n",
    "        print(f\"Car of model {self.model}, make of {self.make} , year {self.year} and fuel_type of {self.fuel_type} has been stopped\")"
   ]
  },
  {
   "cell_type": "code",
   "execution_count": 29,
   "id": "1d1c2edb",
   "metadata": {},
   "outputs": [
    {
     "name": "stdout",
     "output_type": "stream",
     "text": [
      "Car of model EV, make of TATA, year 2020 and fuel_type of NA is ready to go\n",
      "Car of model EV, make of TATA , year 2020 and fuel_type of NA has been stopped\n"
     ]
    }
   ],
   "source": [
    "car1 = Car(\"TATA\",\"EV\",\"2020\",\"NA\")\n",
    "car1.start_engine()\n",
    "car1.stop_engine()"
   ]
  },
  {
   "cell_type": "code",
   "execution_count": 11,
   "id": "713184a5",
   "metadata": {},
   "outputs": [],
   "source": [
    "class Employee:\n",
    "    def __init__(self,name,salary):\n",
    "        self.name = name\n",
    "        self.salary = salary\n",
    "                \n",
    "class Manager(Employee):\n",
    "    def __init__(self,name,salary,department):\n",
    "        super().__init__(name,salary)\n",
    "        self.department = department\n",
    "    def manager_details(self):\n",
    "        print(f\"{self.name} is Manager from {self.department} department and his salary is {self.salary}\")\n",
    "        \n",
    "class Developer(Employee):\n",
    "    def __init__(self,name,salary,programming_language):\n",
    "        super().__init__(name,salary)\n",
    "        self.programming_language = programming_language\n",
    "    def developer_details(self):\n",
    "        print(f\"Dveloper named {self.name} deals with programming language {self.programming_language} and his salary is {self.salary}\")"
   ]
  },
  {
   "cell_type": "code",
   "execution_count": 12,
   "id": "72602cbd",
   "metadata": {},
   "outputs": [
    {
     "name": "stdout",
     "output_type": "stream",
     "text": [
      "Varshith is Manager from QA department and his salary is 20000\n",
      "Dveloper named Sahith deals with programming language Python and his salary is 20000\n"
     ]
    }
   ],
   "source": [
    "m1 = Manager(\"Varshith\",\"20000\",\"QA\")\n",
    "m1.manager_details()\n",
    "d1=Developer(\"Sahith\",\"20000\",\"Python\")\n",
    "d1.developer_details()"
   ]
  },
  {
   "cell_type": "code",
   "execution_count": 31,
   "id": "3c9849ce",
   "metadata": {},
   "outputs": [],
   "source": [
    "import math as m\n",
    "class Shape:\n",
    "    def __init__(self,colour,border_width):\n",
    "        self.colour = colour\n",
    "        self.border_width = border_width\n",
    "class Rectangle(Shape):\n",
    "    def __init__(self,colour,border_width,length,breadth):\n",
    "        super().__init__(colour,border_width)\n",
    "        self.length = length\n",
    "        self.breadth = breadth\n",
    "    def perimeter(self):\n",
    "        p = self.length * self.breadth\n",
    "        print(f\"Perimeter of rectangle of colour {self.colour} and border width {self.border_width} is : {p}\")\n",
    "        \n",
    "class Circle(Shape):\n",
    "    def __init__(self,colour,border_width,radius):\n",
    "        super().__init__(colour,border_width)\n",
    "        self.radius = radius\n",
    "    def circumference(self):\n",
    "        c = m.pi * pow(self.radius,2)\n",
    "        print(f\"Circumference of circle of colour {self.colour} and border width {self.border_width} is : {c}\")\n"
   ]
  },
  {
   "cell_type": "code",
   "execution_count": 32,
   "id": "471a0c3f",
   "metadata": {},
   "outputs": [
    {
     "name": "stdout",
     "output_type": "stream",
     "text": [
      "Perimeter of rectangle of colour red and border width thin is : 600\n",
      "Circumference of circle of colour blue and border width thin is : 314.1592653589793\n"
     ]
    }
   ],
   "source": [
    "r1 = Rectangle(\"red\",\"thin\",20,30)\n",
    "r1.perimeter()\n",
    "c1 = Circle(\"blue\",\"thin\",10)\n",
    "c1.circumference()\n"
   ]
  },
  {
   "cell_type": "code",
   "execution_count": 37,
   "id": "5c547b43",
   "metadata": {},
   "outputs": [],
   "source": [
    "class Device:\n",
    "    def __init__(self,brand,model):\n",
    "        self.brand = brand\n",
    "        self.model = model\n",
    "class Phone(Device):\n",
    "    def __init__(self,brand,model,screen_size):\n",
    "        super().__init__(brand,model)\n",
    "        self.screen_size = screen_size\n",
    "    def phone_details(self):\n",
    "        print(f\"Phone brand is {self.brand}, model is {self.model} and screen_size is {self.screen_size}\")\n",
    "\n",
    "class Tablet(Device):\n",
    "    def __init__(self,brand,model,battery_capacity):\n",
    "        super().__init__(brand,model)\n",
    "        self.battery_capacity = battery_capacity\n",
    "    def tab_details(self):\n",
    "        print(f\"Tablet brand is {self.brand}, model is {self.model} and battery_capacity is {self.battery_capacity}\")"
   ]
  },
  {
   "cell_type": "code",
   "execution_count": 38,
   "id": "148d0b04",
   "metadata": {},
   "outputs": [
    {
     "name": "stdout",
     "output_type": "stream",
     "text": [
      "Phone brand is Mi, model is Note5 and screen_size is 6.1\n",
      "Tablet brand is Samsung, model is 2022 and battery_capacity is 12\n"
     ]
    }
   ],
   "source": [
    "p1 = Phone(\"Mi\",\"Note5\",\"6.1\")\n",
    "p1.phone_details()\n",
    "\n",
    "t1 = Tablet(\"Samsung\",\"2022\",\"12\")\n",
    "t1.tab_details()"
   ]
  },
  {
   "cell_type": "code",
   "execution_count": 58,
   "id": "f9843e87",
   "metadata": {},
   "outputs": [],
   "source": [
    "class BankAccount:\n",
    "    def __init__(self,account_number,balance):\n",
    "        self.account_number=account_number\n",
    "        self.balance=balance\n",
    "class SavingsAccount(BankAccount):\n",
    "    def __init__(self,account_number,balance,time,rate):\n",
    "        super().__init__(account_number,balance)\n",
    "        self.time = time\n",
    "        self.rate = rate\n",
    "    def calculate_intrest(self):\n",
    "        I = self.balance*self.time*self.rate/100\n",
    "        print(f\"Intrest for accountnumber {self.account_number} with balance {self.balance} is : {I}\")\n",
    "        \n",
    "class CheckingAccount(BankAccount):\n",
    "    def __init__(self,account_number,balance,fees):\n",
    "        super().__init__(account_number,balance)\n",
    "        self.fees = fees\n",
    "    def deduct_fees(self):\n",
    "        c = self.balance-self.fees\n",
    "        print(f\"Fees {self.fees} has been deducted from {self.balance} and current balance is {c}\")\n",
    "        \n",
    "    \n",
    "    "
   ]
  },
  {
   "cell_type": "code",
   "execution_count": 59,
   "id": "0478a8e6",
   "metadata": {},
   "outputs": [
    {
     "name": "stdout",
     "output_type": "stream",
     "text": [
      "Intrest for accountnumber 123456789 with balance 1000 is : 40.0\n",
      "Fees 200 has been deducted from 2000 and current balance is 1800\n"
     ]
    }
   ],
   "source": [
    "s1 = SavingsAccount(123456789,1000,2,2)\n",
    "s1.calculate_intrest()\n",
    "c1=CheckingAccount(9505886,2000,200)\n",
    "c1.deduct_fees()"
   ]
  },
  {
   "cell_type": "code",
   "execution_count": null,
   "id": "79d12bf0",
   "metadata": {},
   "outputs": [],
   "source": []
  }
 ],
 "metadata": {
  "kernelspec": {
   "display_name": "Python 3 (ipykernel)",
   "language": "python",
   "name": "python3"
  },
  "language_info": {
   "codemirror_mode": {
    "name": "ipython",
    "version": 3
   },
   "file_extension": ".py",
   "mimetype": "text/x-python",
   "name": "python",
   "nbconvert_exporter": "python",
   "pygments_lexer": "ipython3",
   "version": "3.10.9"
  }
 },
 "nbformat": 4,
 "nbformat_minor": 5
}
