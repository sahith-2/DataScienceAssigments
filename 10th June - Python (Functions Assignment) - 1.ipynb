{
 "cells": [
  {
   "cell_type": "code",
   "execution_count": null,
   "id": "11198555",
   "metadata": {},
   "outputs": [],
   "source": [
    "\"\"\"\n",
    "Built In function:\n",
    "A built-in function is a function that comes pre-defined in the Python programming language and is readily available for use \n",
    "without requiring any additional imports or code definitions\n",
    "\"\"\""
   ]
  },
  {
   "cell_type": "code",
   "execution_count": 10,
   "id": "33b9db71",
   "metadata": {},
   "outputs": [
    {
     "name": "stdout",
     "output_type": "stream",
     "text": [
      "5\n"
     ]
    }
   ],
   "source": [
    "list = [1,2,3,4,5]\n",
    "print(len(list))\n",
    "\n",
    "# len is the inbuilt function"
   ]
  },
  {
   "cell_type": "code",
   "execution_count": null,
   "id": "a4cd31bb",
   "metadata": {},
   "outputs": [],
   "source": [
    "\"\"\"\n",
    "User defined function:\n",
    "A user-defined function is created and defined by the user to perform a specific task or a set of tasks. These functions are not\n",
    "available in Python by default and need to be defined explicitly in the code.\n",
    "\n",
    "\"\"\""
   ]
  },
  {
   "cell_type": "code",
   "execution_count": 22,
   "id": "42f181b6",
   "metadata": {},
   "outputs": [],
   "source": [
    "from math import pi\n",
    "def area(r):\n",
    "    area = pi * pow(r,2)\n",
    "    print(f\"Area of circle:{area}\")"
   ]
  },
  {
   "cell_type": "code",
   "execution_count": 20,
   "id": "dfd75283",
   "metadata": {},
   "outputs": [
    {
     "name": "stdout",
     "output_type": "stream",
     "text": [
      "Area of circle:50.26548245743669\n"
     ]
    }
   ],
   "source": [
    "# user defined function\n",
    "area(4)"
   ]
  },
  {
   "cell_type": "code",
   "execution_count": 23,
   "id": "e7bc10de",
   "metadata": {
    "scrolled": false
   },
   "outputs": [
    {
     "data": {
      "text/plain": [
       "\"\\nIn Python, you can pass arguments to a function when you call it. Arguments are values or variables that you provide to the \\nfunction, and the function can use these arguments to perform specific tasks or calculations. There are two ways to pass \\narguments to a function. They are positional arguments and keyword arguments.\\n\\nPosition arguments:\\nWhen you pass arguments using postional argument method , the order in which you provide the arguments matters. \\nThe function uses the position of the arguments to assign values to its parameters. The first argument you pass corresponds \\nto the first parameter of the function, the second argument to the second parameter, and so on.\\n\\nKeyword arguments:\\nKeyword arguments allow you to explicitly specify which parameter each argument should be assigned to by using the parameter \\nname followed by an equal sign (=) before the argument value. With keyword arguments, the order of the arguments doesn't matter.\\n\\n\""
      ]
     },
     "execution_count": 23,
     "metadata": {},
     "output_type": "execute_result"
    }
   ],
   "source": [
    "\"\"\"\n",
    "In Python, you can pass arguments to a function when you call it. Arguments are values or variables that you provide to the \n",
    "function, and the function can use these arguments to perform specific tasks or calculations. There are two ways to pass \n",
    "arguments to a function. They are positional arguments and keyword arguments.\n",
    "\n",
    "Position arguments:\n",
    "When you pass arguments using postional argument method , the order in which you provide the arguments matters. \n",
    "The function uses the position of the arguments to assign values to its parameters. The first argument you pass corresponds \n",
    "to the first parameter of the function, the second argument to the second parameter, and so on.\n",
    "\n",
    "Keyword arguments:\n",
    "Keyword arguments allow you to explicitly specify which parameter each argument should be assigned to by using the parameter \n",
    "name followed by an equal sign (=) before the argument value. With keyword arguments, the order of the arguments doesn't matter.\n",
    "\n",
    "\"\"\"\n",
    "\n"
   ]
  },
  {
   "cell_type": "code",
   "execution_count": 24,
   "id": "9424947b",
   "metadata": {},
   "outputs": [
    {
     "name": "stdout",
     "output_type": "stream",
     "text": [
      "8\n"
     ]
    }
   ],
   "source": [
    "# Example for position arguments\n",
    "def add_numbers(a, b):\n",
    "    result = a + b\n",
    "    return result\n",
    "\n",
    "sum_result = add_numbers(5, 3)\n",
    "print(sum_result)  "
   ]
  },
  {
   "cell_type": "code",
   "execution_count": 26,
   "id": "c3a7d5be",
   "metadata": {},
   "outputs": [
    {
     "name": "stdout",
     "output_type": "stream",
     "text": [
      "F_Name: Sahith, L_Name: Medidhi\n"
     ]
    }
   ],
   "source": [
    "# Example for Keyword arguments\n",
    "def display_info(first_name, Last_name):\n",
    "    info = f\"F_Name: {first_name}, L_Name: {Last_name}\"\n",
    "    return info\n",
    "person_info = display_info(Last_name =\"Medidhi\",first_name=\"Sahith\")\n",
    "print(person_info)"
   ]
  },
  {
   "cell_type": "code",
   "execution_count": null,
   "id": "e00de672",
   "metadata": {},
   "outputs": [],
   "source": [
    "\"\"\"\n",
    "Return Statement in Function:\n",
    "\n",
    "Return in function provides the output or result of the function. During the execution of function, if return statement is \n",
    "encountered then function execution halts immediately. If no return is present in function then by default function retsurns \n",
    "'None'\n",
    "\n",
    "Yes, a function can have multiple return statements. When there are multiple return statements in a function, the function \n",
    "will return the value associated with the first return statement that is encountered during execution. Subsequent return \n",
    "statements are not executed once the function returns a value. The presence of multiple return statements can be useful when \n",
    "you want to conditionally return different values based on certain conditions.\n",
    "\n",
    "\"\"\""
   ]
  },
  {
   "cell_type": "code",
   "execution_count": 27,
   "id": "dbfc8698",
   "metadata": {},
   "outputs": [
    {
     "name": "stdout",
     "output_type": "stream",
     "text": [
      "Even\n",
      "Odd\n"
     ]
    }
   ],
   "source": [
    "#Example of a function with multiple return statements:\n",
    "def check_even_odd(number):\n",
    "    if number % 2 == 0:\n",
    "        return \"Even\"\n",
    "    else:\n",
    "        return \"Odd\"\n",
    "result1 = check_even_odd(4)\n",
    "result2 = check_even_odd(7)\n",
    "\n",
    "print(result1) \n",
    "print(result2) "
   ]
  },
  {
   "cell_type": "code",
   "execution_count": null,
   "id": "105bcbf0",
   "metadata": {},
   "outputs": [],
   "source": [
    "\"\"\"\n",
    "Lambda functions in Python are a way of creating small, anonymous, and one-line functions without giving them a formal name. \n",
    "They are also known as \"anonymous functions\" because they do not require the def keyword and are defined using the lambda \n",
    "keyword.\n",
    "\n",
    "Lamda function can take any number of arguments but can have only single expression. Unlike named functions, lamda functions do not have a \n",
    "formal name and they are anonymous.\n",
    "\n",
    "\"\"\"\""
   ]
  },
  {
   "cell_type": "code",
   "execution_count": 29,
   "id": "44ba204e",
   "metadata": {},
   "outputs": [
    {
     "name": "stdout",
     "output_type": "stream",
     "text": [
      "8\n"
     ]
    }
   ],
   "source": [
    "# Example of a lambda function:\n",
    "\n",
    "add_lambda = lambda x, y: x + y\n",
    "result1 = add_lambda(3, 5)\n",
    "print(result1)\n"
   ]
  },
  {
   "cell_type": "code",
   "execution_count": null,
   "id": "04dcce5b",
   "metadata": {},
   "outputs": [],
   "source": [
    "\"\"\"\n",
    "In Python, \"scope\" refers to the region in a program where a variable or a name can be accessed and referenced.The concept \n",
    "of scope is essential for understanding how variables are stored and retrieved in different parts of a Python program. \n",
    "In particular, it applies to functions, and there are two main types of scope: local scope and global scope.\n",
    "\n",
    "Local scope:\n",
    "Local scope refers to the scope of a variable or name that is defined inside a function. Variables defined within a function \n",
    "are considered local to that function, and they can only be accessed and used within that function. Once the function finishes \n",
    "executing, the local variables are destroyed, and their values are no longer accessible.\n",
    "\n",
    "Global Scope:\n",
    "Global scope refers to the scope of a variable or name that is defined at the top level of a Python script or module. Variables\n",
    "defined in the global scope are accessible from anywhere in the program, including inside functions. If a variable is not found \n",
    "in the local scope, Python will search for it in the global scope.\n",
    "\n",
    "\"\"\"\""
   ]
  },
  {
   "cell_type": "code",
   "execution_count": 32,
   "id": "dfaf4963",
   "metadata": {},
   "outputs": [
    {
     "name": "stdout",
     "output_type": "stream",
     "text": [
      "10\n",
      "20\n",
      "20\n"
     ]
    }
   ],
   "source": [
    "# Example of local scope:\n",
    "def my_function():\n",
    "    x = 10\n",
    "    print(x)\n",
    "\n",
    "my_function()\n",
    "\n",
    "\n",
    "#Example of global scope:\n",
    "global_var = 20\n",
    "\n",
    "def my_function():\n",
    "    print(global_var)\n",
    "\n",
    "my_function()\n",
    "print(global_var) \n",
    "\n"
   ]
  },
  {
   "cell_type": "code",
   "execution_count": 34,
   "id": "b3936545",
   "metadata": {},
   "outputs": [
    {
     "data": {
      "text/plain": [
       "'\\nIn Python, the return statement in a function can be used to return multiple values by packing them into a data structure like \\na tuple, list, or dictionary. When you return multiple values using the return statement, Python packs those values into a \\nsingle object, and you can then unpack them after calling the function.\\n\\n'"
      ]
     },
     "execution_count": 34,
     "metadata": {},
     "output_type": "execute_result"
    }
   ],
   "source": [
    "\"\"\"\n",
    "In Python, the return statement in a function can be used to return multiple values by packing them into a data structure like \n",
    "a tuple, list, or dictionary. When you return multiple values using the return statement, Python packs those values into a \n",
    "single object, and you can then unpack them after calling the function.\n",
    "\n",
    "\"\"\""
   ]
  },
  {
   "cell_type": "code",
   "execution_count": 35,
   "id": "b4b16028",
   "metadata": {},
   "outputs": [
    {
     "name": "stdout",
     "output_type": "stream",
     "text": [
      "{'x': 10, 'y': 20}\n"
     ]
    }
   ],
   "source": [
    "# Example of function returning multiples values as dictionary\n",
    "\n",
    "def get_values():\n",
    "    x = 10\n",
    "    y = 20\n",
    "    return {'x': x, 'y': y}\n",
    "\n",
    "result = get_values()\n",
    "print(result)\n"
   ]
  },
  {
   "cell_type": "code",
   "execution_count": null,
   "id": "0f0a4e9f",
   "metadata": {},
   "outputs": [],
   "source": [
    "\"\"\"\n",
    "Pass by Value:\n",
    "\"Pass by value\" means that when you pass an argument to a function, a copy of the value of the argument is passed to the \n",
    "function. Any modifications made to the parameter within the function do not affect the original value outside the function.\n",
    "\n",
    "Pass by Reference:\n",
    "In Python, everything is an object, including variables. When you pass an argument to a function, what gets passed is actually \n",
    "a reference to the object in memory, not a copy of the object. This means that any changes made to the \n",
    "object (such as mutable data types like lists, dictionaries, etc.) within the function can affect the original object outside \n",
    "the function.\n",
    "\n",
    "\"\"\""
   ]
  },
  {
   "cell_type": "code",
   "execution_count": 36,
   "id": "c47d5797",
   "metadata": {},
   "outputs": [
    {
     "name": "stdout",
     "output_type": "stream",
     "text": [
      "10\n",
      "11\n"
     ]
    }
   ],
   "source": [
    "# Example of Pass by Value\n",
    "def modify_number(x):\n",
    "    x = x + 1\n",
    "    return x\n",
    "\n",
    "num = 10\n",
    "modified_num = modify_number(num)\n",
    "\n",
    "print(num)  # Output: 10 (original value remains unchanged)\n",
    "print(modified_num) # Output: 11 (modified value returned from the function)\n",
    "\n",
    "# In this example, when we pass the variable num to the modify_number() function, a copy of the value of num is passed. \n",
    "# Any changes made to the parameter x within the function do not affect the original variable num."
   ]
  },
  {
   "cell_type": "code",
   "execution_count": 37,
   "id": "47749289",
   "metadata": {},
   "outputs": [
    {
     "name": "stdout",
     "output_type": "stream",
     "text": [
      "[1, 2, 3, 4]\n"
     ]
    }
   ],
   "source": [
    "# Example of Pass by Reference\n",
    "def modify_list(lst):\n",
    "    lst.append(4)\n",
    "\n",
    "my_list = [1, 2, 3]\n",
    "modify_list(my_list)\n",
    "\n",
    "print(my_list)  # Output: [1, 2, 3, 4] (list modified within the function)\n"
   ]
  },
  {
   "cell_type": "code",
   "execution_count": 40,
   "id": "ad50125f",
   "metadata": {},
   "outputs": [],
   "source": [
    "import math\n",
    "\n",
    "def math_operations(x):\n",
    "    log_x = math.log(x)\n",
    "    exp_x = math.exp(x)\n",
    "    power_2_x = 2 ** x\n",
    "    sqrt_x = math.sqrt(x)\n",
    "    print(f\"log value :{log_x}, exp value :{exp_x}, power value :{power_2_x}, sqrt value :{sqrt_x}\")"
   ]
  },
  {
   "cell_type": "code",
   "execution_count": 41,
   "id": "5935a0a7",
   "metadata": {},
   "outputs": [
    {
     "name": "stdout",
     "output_type": "stream",
     "text": [
      "log value :0.6931471805599453, exp value :7.38905609893065, power value :4, sqrt value :1.4142135623730951\n"
     ]
    }
   ],
   "source": [
    "math_operations(2)"
   ]
  },
  {
   "cell_type": "code",
   "execution_count": 42,
   "id": "4142d698",
   "metadata": {},
   "outputs": [],
   "source": [
    "def get_first_last_name(full_name):\n",
    "    name_parts = full_name.split()\n",
    "    first_name = name_parts[0]\n",
    "    last_name = name_parts[1]\n",
    "    print(f\"First Name: {first_name}\")\n",
    "    print(f\"Last Name: {last_name}\")"
   ]
  },
  {
   "cell_type": "code",
   "execution_count": 43,
   "id": "5c40c01f",
   "metadata": {},
   "outputs": [
    {
     "name": "stdout",
     "output_type": "stream",
     "text": [
      "First Name: Sahith\n",
      "Last Name: Medidhi\n"
     ]
    }
   ],
   "source": [
    "get_first_last_name(\"Sahith Medidhi\")"
   ]
  },
  {
   "cell_type": "code",
   "execution_count": null,
   "id": "6a1b6f20",
   "metadata": {},
   "outputs": [],
   "source": []
  }
 ],
 "metadata": {
  "kernelspec": {
   "display_name": "Python 3 (ipykernel)",
   "language": "python",
   "name": "python3"
  },
  "language_info": {
   "codemirror_mode": {
    "name": "ipython",
    "version": 3
   },
   "file_extension": ".py",
   "mimetype": "text/x-python",
   "name": "python",
   "nbconvert_exporter": "python",
   "pygments_lexer": "ipython3",
   "version": "3.10.9"
  }
 },
 "nbformat": 4,
 "nbformat_minor": 5
}
