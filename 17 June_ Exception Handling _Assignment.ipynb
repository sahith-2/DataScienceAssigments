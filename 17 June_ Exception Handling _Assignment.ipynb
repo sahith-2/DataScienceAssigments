{
 "cells": [
  {
   "cell_type": "code",
   "execution_count": null,
   "id": "1b12999d",
   "metadata": {},
   "outputs": [],
   "source": [
    "\"\"\"\n",
    "Role of Try and Exception block\n",
    "Try block :\n",
    "Try block is used to check if there are errors in our code.Try block executes if there are no errors in the code.\n",
    "\n",
    "Exception block:\n",
    "Exception block executes if there are any errors in preceding try block\n",
    "\n",
    "\"\"\""
   ]
  },
  {
   "cell_type": "code",
   "execution_count": 2,
   "id": "9c8abdae",
   "metadata": {
    "scrolled": true
   },
   "outputs": [
    {
     "data": {
      "text/plain": [
       "'\\ntry:\\n    try code\\nexcept:\\n    execute if there is an error in try code\\n'"
      ]
     },
     "execution_count": 2,
     "metadata": {},
     "output_type": "execute_result"
    }
   ],
   "source": [
    "\"\"\"\n",
    "try:\n",
    "    try code\n",
    "except:\n",
    "    execute if there is an error in try code\n",
    "\"\"\""
   ]
  },
  {
   "cell_type": "code",
   "execution_count": null,
   "id": "2fa47906",
   "metadata": {},
   "outputs": [],
   "source": [
    "\"\"\"\n",
    "What happens if an exception occurs inside a try block and there is no matching\n",
    "except block?\n",
    "\n",
    "If an exception occurs inside a try block and there is no matching except block to handle that specific exception, \n",
    "the program will terminate and error message will display. This error message includes the type of exception that occurred, \n",
    "along with a traceback showing the sequence of function calls and line numbers that led to the exception.\n",
    "\"\"\""
   ]
  },
  {
   "cell_type": "code",
   "execution_count": null,
   "id": "a4eef5b5",
   "metadata": {},
   "outputs": [],
   "source": [
    "\"\"\"\n",
    "Bare except block:\n",
    "Bare except block does not sepcify any particular exeception type and it handles all the execptions that occur with in the try\n",
    "block.It provides a general error handling mechanism and its harder to determinethe specific cause of the exception.\n",
    "\n",
    "Specific Exception type:\n",
    "When we specify a specific exception type in an except block, we are explicitly stating which type of exception you want \n",
    "to handle. It provides targeted error handling for that specific exception type. Other exceptions that are not of type \n",
    "mentioned in the exception will not be caught by this except block.\n",
    "\"\"\""
   ]
  },
  {
   "cell_type": "code",
   "execution_count": 4,
   "id": "601827ec",
   "metadata": {},
   "outputs": [
    {
     "name": "stdout",
     "output_type": "stream",
     "text": [
      "Enter the numerator: 10\n",
      "Enter the denominator: 0\n",
      "Cannot divide by zero.\n"
     ]
    }
   ],
   "source": [
    "\"\"\"\n",
    "Yes, you can have nested try-except blocks in Python. This means that you can have a try block within another try block and \n",
    "each try block can have its own corresponding except blocks to handle exceptions at different levels of the code.\n",
    "\"\"\"\n",
    "try:\n",
    "    # Outer try block\n",
    "    numerator = int(input(\"Enter the numerator: \"))\n",
    "    denominator = int(input(\"Enter the denominator: \"))\n",
    "\n",
    "    try:\n",
    "        # Inner try block\n",
    "        result = numerator / denominator\n",
    "        print(\"Result:\", result)\n",
    "    except ZeroDivisionError:\n",
    "        print(\"Cannot divide by zero.\")\n",
    "\n",
    "except ValueError:\n",
    "    print(\"Invalid input. Please enter integers.\")\n"
   ]
  },
  {
   "cell_type": "code",
   "execution_count": 12,
   "id": "9489b8e9",
   "metadata": {},
   "outputs": [
    {
     "name": "stdout",
     "output_type": "stream",
     "text": [
      "Enter the numerator: 10\n",
      "Enter the denominator: sai\n",
      "Invalid value.\n"
     ]
    }
   ],
   "source": [
    "\"\"\"\n",
    "Yes, you can use multiple except blocks to handle different types of exceptions separately. This allows you to provide \n",
    "specific error handling for each exception type that may occur within the corresponding try block.\n",
    "\"\"\"\n",
    "try:\n",
    "    numerator = int(input(\"Enter the numerator: \"))\n",
    "    denominator = int(input(\"Enter the denominator: \"))\n",
    "    result = numerator / denominator\n",
    "    print(\"Result:\", result)\n",
    "except ZeroDivisionError:\n",
    "    print(\"Cannot divide by zero.\")\n",
    "except ValueError:\n",
    "    print(\"Invalid value.\")\n",
    "\n"
   ]
  },
  {
   "cell_type": "code",
   "execution_count": null,
   "id": "0c6e0ac7",
   "metadata": {},
   "outputs": [],
   "source": [
    "\"\"\"\n",
    "EOFError: This error is raised when the input() function reaches the end of a file or input stream unexpectedly. \n",
    "It occurs when there is no more data to read, but the program expects further input.\n",
    "\n",
    "FloatingPointError: This error is raised when a floating-point operation fails to produce a valid result. \n",
    "It can occur when performing operations like division or square root on special values such as infinity or NaN (Not a Number).\n",
    "\n",
    "IndexError: This error is raised when attempting to access an index of a sequence (such as a list or string) that is out of \n",
    "range. It occurs when the index provided is greater than or equal to the length of the sequence or negative.\n",
    "\n",
    "MemoryError: This error is raised when an operation fails due to insufficient memory allocation. It occurs when the program \n",
    "tries to allocate more memory than the system can provide, usually because the system's memory limits have been reached.\n",
    "\n",
    "OverflowError: This error is raised when a calculation exceeds the maximum representable value for a numeric type. It occurs \n",
    "when the result of an arithmetic operation, such as addition or multiplication, is too large to be stored within the numeric \n",
    "type's range.\n",
    "\n",
    "TabError: This error is raised when inconsistent or improper use of tabs and spaces for indentation is encountered. It occurs \n",
    "when mixing tabs and spaces or when the indentation level is not consistent within a block of code.\n",
    "\n",
    "ValueError: This error is raised when an operation or function receives an argument of the correct type but with an invalid \n",
    "value. It occurs when the input value is inappropriate for the specific operation or when the function's requirements are not \n",
    "met. For example, passing an invalid argument to a function expecting a positive integer.\n",
    "\n",
    "\"\"\""
   ]
  },
  {
   "cell_type": "code",
   "execution_count": 13,
   "id": "81518cbe",
   "metadata": {},
   "outputs": [
    {
     "name": "stdout",
     "output_type": "stream",
     "text": [
      "Enter the numerator: 10\n",
      "Enter the denominator: 0\n",
      "Cannot divide by zero.\n"
     ]
    }
   ],
   "source": [
    "try:\n",
    "    numerator = int(input(\"Enter the numerator: \"))\n",
    "    denominator = int(input(\"Enter the denominator: \"))\n",
    "    result = numerator / denominator\n",
    "    print(\"Result:\", result)\n",
    "except ZeroDivisionError:\n",
    "    print(\"Cannot divide by zero.\")\n",
    "except ValueError:\n",
    "    print(\"Invalid value.\")"
   ]
  },
  {
   "cell_type": "code",
   "execution_count": 14,
   "id": "f5fb2ed6",
   "metadata": {},
   "outputs": [
    {
     "name": "stdout",
     "output_type": "stream",
     "text": [
      "Enter string value:Sahith\n",
      "String cannot be converted to int\n"
     ]
    }
   ],
   "source": [
    "try:\n",
    "    s = input(\"Enter string value:\")\n",
    "    i = int(s)\n",
    "    print(i)\n",
    "except ValueError:\n",
    "    print(\"String cannot be converted to int\")"
   ]
  },
  {
   "cell_type": "code",
   "execution_count": 23,
   "id": "b9b4bc07",
   "metadata": {},
   "outputs": [
    {
     "name": "stdout",
     "output_type": "stream",
     "text": [
      "Enter the index value:9\n",
      "Index  is out of range\n"
     ]
    }
   ],
   "source": [
    "try:\n",
    "    my_list = [1,2,3,4,5]\n",
    "    index = int(input(\"Enter the index value:\"))\n",
    "    ele = my_list[index]\n",
    "    print(ele)\n",
    "except ValueError:\n",
    "    print(\"Enter integer values\")\n",
    "except IndexError:\n",
    "    print(\"Index  is out of range\")\n"
   ]
  },
  {
   "cell_type": "code",
   "execution_count": 24,
   "id": "687cfcc9",
   "metadata": {},
   "outputs": [
    {
     "name": "stdout",
     "output_type": "stream",
     "text": [
      "Enter the name of the file to open: sahith\n",
      "Error: File not found.\n"
     ]
    }
   ],
   "source": [
    "file_name = input(\"Enter the name of the file to open: \")\n",
    "\n",
    "try:\n",
    "    file = open(file_name, 'r')\n",
    "    file.close()\n",
    "except FileNotFoundError:\n",
    "    print(\"Error: File not found.\")\n",
    "\n"
   ]
  },
  {
   "cell_type": "code",
   "execution_count": 25,
   "id": "e318498f",
   "metadata": {},
   "outputs": [
    {
     "name": "stdout",
     "output_type": "stream",
     "text": [
      "Enter the numerator: 10\n",
      "Enter the denominator: 0\n",
      "An error occurred: division by zero\n"
     ]
    }
   ],
   "source": [
    "try:\n",
    "    numerator = int(input(\"Enter the numerator: \"))\n",
    "    denominator = int(input(\"Enter the denominator: \"))\n",
    "\n",
    "    result = numerator / denominator\n",
    "    print(\"Result:\", result)\n",
    "\n",
    "except Exception as e:\n",
    "    print(\"An error occurred:\", str(e))\n"
   ]
  },
  {
   "cell_type": "code",
   "execution_count": null,
   "id": "198d9aa3",
   "metadata": {},
   "outputs": [],
   "source": []
  }
 ],
 "metadata": {
  "kernelspec": {
   "display_name": "Python 3 (ipykernel)",
   "language": "python",
   "name": "python3"
  },
  "language_info": {
   "codemirror_mode": {
    "name": "ipython",
    "version": 3
   },
   "file_extension": ".py",
   "mimetype": "text/x-python",
   "name": "python",
   "nbconvert_exporter": "python",
   "pygments_lexer": "ipython3",
   "version": "3.10.9"
  }
 },
 "nbformat": 4,
 "nbformat_minor": 5
}
